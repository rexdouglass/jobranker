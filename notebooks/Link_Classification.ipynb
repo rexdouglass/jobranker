{
  "cells": [
    {
      "cell_type": "raw",
      "metadata": {},
      "source": [
        "---\n",
        "title: \"Link Classification for Job Post Scraping\"\n",
        "editor: visual\n",
        "---"
      ],
      "id": "9cdf1a06"
    },
    {
      "cell_type": "code",
      "metadata": {},
      "source": [
        "import pandas as pd\n",
        "import duckdb\n",
        "import numpy as np\n",
        "database='database/jobranker.duckdb'\n",
        "with duckdb.connect(database=database, read_only=False) as con:\n",
        "  link_dyads=pd.read_sql(\"SELECT * FROM link_dyads;\", con, parse_dates=[\"date_observed\"])\n",
        "\n",
        "import pandas as pd\n",
        "LinkLabels = pd.read_csv(\"/mnt/8tb_a/rwd_github_private/DataJobsByRexDouglass/database/LinkLabels.csv\")[['text_b','is_job']]\n",
        "\n",
        "LinkLabels = LinkLabels.merge( link_dyads[[\"text_b\",\"text_b_class_mnli\"]].drop_duplicates() , how=\"left\", on=\"text_b\" )\n",
        "LinkLabels['text_b_nchar'] = [len(q) for q in  LinkLabels['text_b']]\n",
        "\n",
        "LinkLabels['is_job'].sum() / LinkLabels.shape[0] #41% positive label"
      ],
      "id": "ac636bd5",
      "execution_count": null,
      "outputs": []
    },
    {
      "cell_type": "code",
      "metadata": {},
      "source": [
        "pd.crosstab(LinkLabels['text_b_class_mnli'], LinkLabels['is_job']).apply(lambda r: r/r.sum(), axis=1).round(2).sort_values(1, ascending=False)"
      ],
      "id": "6e96040a",
      "execution_count": null,
      "outputs": []
    },
    {
      "cell_type": "code",
      "metadata": {},
      "source": [
        "import matplotlib.pyplot as plt\n",
        "boxplot = LinkLabels.boxplot(column=['text_b_nchar'], by=['is_job'])\n",
        "plt.show()"
      ],
      "id": "eff54c3f",
      "execution_count": null,
      "outputs": []
    },
    {
      "cell_type": "code",
      "metadata": {},
      "source": [
        "#Hand Rules\n",
        "condition1 = (LinkLabels['text_b_class_mnli']==\"job title\") |  (LinkLabels['text_b_nchar']>80)\n",
        "condition2 = (LinkLabels['text_b_class_mnli'].isin(['company','webpage','job website','link on a job website','symbols','url','website navigation']))\n",
        "\n",
        "LinkLabels['y_hat'] = condition1 & ~condition2\n",
        "LinkLabels['correct']= LinkLabels['is_job'] == LinkLabels['y_hat']\n",
        "\n",
        "from sklearn.metrics import accuracy_score\n",
        "accuracy_score(LinkLabels['is_job'], LinkLabels['y_hat'])\n",
        "\n",
        "pd.crosstab(LinkLabels['y_hat'][condition], LinkLabels['is_job'][condition]).apply(lambda r: r/r.sum(), axis=1).round(2).sort_values(1, ascending=False)\n"
      ],
      "id": "cbe1d9d8",
      "execution_count": null,
      "outputs": []
    },
    {
      "cell_type": "code",
      "metadata": {},
      "source": [
        "one_hot = pd.get_dummies(LinkLabels['text_b_class_mnli'])\n",
        "\n",
        "from sklearn import tree\n",
        "iris = load_iris()\n",
        "X, y = pd.concat( [LinkLabels[['text_b_nchar']], one_hot],  axis=1) , LinkLabels[['is_job']]\n",
        "clf = tree.DecisionTreeClassifier()\n",
        "clf = clf.fit(X, y)\n",
        "#tree.plot_tree(clf)\n",
        "from sklearn.tree import export_text\n",
        "r = export_text(clf)"
      ],
      "id": "2479ed3a",
      "execution_count": null,
      "outputs": []
    },
    {
      "cell_type": "code",
      "metadata": {},
      "source": [
        "plot_tree(clf, filled=True)\n",
        "plt.title(\"Decision tree trained on all the iris features\")\n",
        "plt.show()"
      ],
      "id": "00dc8434",
      "execution_count": null,
      "outputs": []
    }
  ],
  "metadata": {
    "kernelspec": {
      "name": "python3",
      "language": "python",
      "display_name": "Python 3 (ipykernel)"
    }
  },
  "nbformat": 4,
  "nbformat_minor": 5
}